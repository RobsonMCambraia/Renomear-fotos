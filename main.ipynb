{
 "cells": [
  {
   "cell_type": "code",
   "execution_count": 23,
   "metadata": {},
   "outputs": [],
   "source": [
    "import os\n",
    "from shutil import move\n",
    "\n",
    "# Defina o caminho para a pasta onde os arquivos estão localizados\n",
    "caminho_da_pasta = 'C:/Users/robso/OneDrive/Imagens/NÓS/FOTOS'\n",
    "\n",
    "# Use a função listdir para obter a lista de arquivos na pasta\n",
    "arquivos_na_pasta = os.listdir(caminho_da_pasta)"
   ]
  },
  {
   "cell_type": "code",
   "execution_count": 25,
   "metadata": {},
   "outputs": [
    {
     "name": "stdout",
     "output_type": "stream",
     "text": [
      "350\n"
     ]
    }
   ],
   "source": [
    "print(len(arquivos_na_pasta))"
   ]
  },
  {
   "cell_type": "code",
   "execution_count": 26,
   "metadata": {},
   "outputs": [],
   "source": [
    "os.mkdir('FOTOS/FOTOS_RENOMEADAS')"
   ]
  },
  {
   "cell_type": "code",
   "execution_count": 42,
   "metadata": {},
   "outputs": [
    {
     "name": "stdout",
     "output_type": "stream",
     "text": [
      "Arquivo renomeado e movido: IMG-20230511-WA0046.jpeg -> VIDEO - 203.jpeg\n",
      "Arquivo renomeado e movido: IMG-20230608-WA0032-01.jpeg -> VIDEO - 230.jpeg\n",
      "Arquivo renomeado e movido: IMG-20230916-WA0070.jpeg -> VIDEO - 259.jpeg\n",
      "Arquivo renomeado e movido: IMG-20231008-WA0045.jpeg -> VIDEO - 266.jpeg\n",
      "Arquivo renomeado e movido: IMG-20231105-WA0018.jpeg -> VIDEO - 270.jpeg\n",
      "Arquivo renomeado e movido: IMG-20231206-WA0067.jpeg -> VIDEO - 277.jpeg\n",
      "Arquivo renomeado e movido: IMG-20231224-WA0103.jpeg -> VIDEO - 279.jpeg\n",
      "Arquivo renomeado e movido: IMG-20231224-WA0104.jpeg -> VIDEO - 280.jpeg\n",
      "Arquivo renomeado e movido: IMG-20231224-WA0109.jpeg -> VIDEO - 281.jpeg\n",
      "Arquivo renomeado e movido: IMG-20231224-WA0115.jpeg -> VIDEO - 282.jpeg\n",
      "Arquivo renomeado e movido: IMG-20231230-WA0071.jpeg -> VIDEO - 283.jpeg\n"
     ]
    }
   ],
   "source": [
    "for count, arquivo in enumerate(arquivos_na_pasta, start=1):\n",
    "    nome_arquivo, extensao = os.path.splitext(arquivo)\n",
    "\n",
    "    if extensao.lower() == '.jpeg':\n",
    "        caminho_origem = os.path.join(caminho_da_pasta, nome_arquivo + extensao)\n",
    "        caminho_destino = os.path.join(caminho_da_pasta, 'FOTOS', f'FOTO - {count}.jpeg')\n",
    "\n",
    "        try:\n",
    "            os.rename(caminho_origem, caminho_destino)\n",
    "            print(f\"Arquivo renomeado e movido: {nome_arquivo + extensao} -> VIDEO - {count}.jpeg\")\n",
    "        except FileNotFoundError:\n",
    "            print(f\"Arquivo não encontrado: {nome_arquivo + extensao}\")\n",
    "        except Exception as e:\n",
    "            print(f\"Ocorreu um erro ao renomear/mover o arquivo: {e}\")"
   ]
  }
 ],
 "metadata": {
  "kernelspec": {
   "display_name": "base",
   "language": "python",
   "name": "python3"
  },
  "language_info": {
   "codemirror_mode": {
    "name": "ipython",
    "version": 3
   },
   "file_extension": ".py",
   "mimetype": "text/x-python",
   "name": "python",
   "nbconvert_exporter": "python",
   "pygments_lexer": "ipython3",
   "version": "3.9.13"
  }
 },
 "nbformat": 4,
 "nbformat_minor": 2
}
